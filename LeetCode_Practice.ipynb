{
  "nbformat": 4,
  "nbformat_minor": 0,
  "metadata": {
    "colab": {
      "provenance": [],
      "authorship_tag": "ABX9TyP0mhn39B56a4Jz2CAh+/gY",
      "include_colab_link": true
    },
    "kernelspec": {
      "name": "python3",
      "display_name": "Python 3"
    },
    "language_info": {
      "name": "python"
    }
  },
  "cells": [
    {
      "cell_type": "markdown",
      "metadata": {
        "id": "view-in-github",
        "colab_type": "text"
      },
      "source": [
        "<a href=\"https://colab.research.google.com/github/l1legend/Leetcode-Practice-and-Review-Python/blob/main/LeetCode_Practice.ipynb\" target=\"_parent\"><img src=\"https://colab.research.google.com/assets/colab-badge.svg\" alt=\"Open In Colab\"/></a>"
      ]
    },
    {
      "cell_type": "markdown",
      "source": [
        "**27. Remove Element (static arrays)**\n",
        "\n",
        "Given an integer array nums and an integer val, remove all occurrences of val in nums in-place. The order of the elements may be changed. **Then return the number of elements in nums which are not equal to val.**\n",
        "\n",
        "Consider the number of elements in nums which are not equal to val be k, to get accepted, you need to do the following things:\n",
        "\n",
        "*   Change the array nums such that the first k elements of nums contain the\n",
        "elements which are not equal to val. The remaining elements of nums are not important as well as the size of nums.\n",
        "*   Return k.\n",
        "\n",
        "\n",
        "**Custom Judge:**\n",
        "\n",
        "The judge will test your solution with the following code:\n",
        "\n",
        "```\n",
        "int[] nums = [...]; // Input array\n",
        "int val = ...; // Value to remove\n",
        "int[] expectedNums = [...]; // The expected answer with correct length.\n",
        "                            // It is sorted with no values equaling val.\n",
        "\n",
        "int k = removeElement(nums, val); // Calls your implementation\n",
        "\n",
        "assert k == expectedNums.length;\n",
        "sort(nums, 0, k); // Sort the first k elements of nums\n",
        "for (int i = 0; i < actualLength; i++) {\n",
        "    assert nums[i] == expectedNums[i];\n",
        "}\n",
        "```\n",
        "\n",
        "\n",
        "If all assertions pass, then your solution will be accepted.\n",
        "\n",
        "\n",
        "\n",
        "Example 1:\n",
        "```\n",
        "Input: nums = [3,2,2,3], val = 3\n",
        "Output: 2, nums = [2,2,_,_]\n",
        "Explanation: Your function should return k = 2, with the first two elements of nums being 2.\n",
        "It does not matter what you leave beyond the returned k (hence they are underscores).\n",
        "```\n",
        "\n",
        "\n",
        "\n",
        "Example 2:\n",
        "```\n",
        "Input: nums = [0,1,2,2,3,0,4,2], val = 2\n",
        "Output: 5, nums = [0,1,4,0,3,_,_,_]\n",
        "Explanation: Your function should return k = 5, with the first five elements of nums containing 0, 0, 1, 3, and 4.\n",
        "Note that the five elements can be returned in any order.\n",
        "It does not matter what you leave beyond the returned k (hence they are underscores).\n",
        "```\n",
        "\n",
        "Constraints:\n",
        "*   ```0 <= nums.length <= 100```\n",
        "*   ```0 <= nums[i] <= 50```\n",
        "*   ```0 <= val <= 100```\n"
      ],
      "metadata": {
        "id": "u5rU9-jkDGeP"
      }
    },
    {
      "cell_type": "code",
      "source": [
        "class Solution:\n",
        "    def removeElement(self, nums: List[int], val: int) -> int:\n",
        "        k = 0  # Variable to keep track of the number of elements not equal to val (the pointer)\n",
        "\n",
        "        for i in range(len(nums)): # We iterate through each element of nums using a for loop.\n",
        "            if nums[i] != val: # If the current element nums[i] is not equal to val\n",
        "                nums[k] = nums[i] #copies the element at index i in the nums list to the element at index k in the list.\n",
        "                k += 1\n",
        "\n",
        "        return k"
      ],
      "metadata": {
        "id": "GfsQTUAhDS4R"
      },
      "execution_count": null,
      "outputs": []
    },
    {
      "cell_type": "markdown",
      "source": [
        "Explanation:\n",
        "\n",
        "* The removeElement method takes in an integer array nums and an integer val.\n",
        "The variable k is initialized to keep track of the number of elements in nums that are not equal to val.\n",
        "* We iterate through each element of nums using a for loop.\n",
        "* If the current element nums[i] is not equal to val, we copy it to the position k in the array, and increment k by 1.\n",
        "By doing this, we effectively \"overwrite\" the elements that are equal to val with the elements that are not equal to val, keeping the order of the elements intact.\n",
        "* After the loop finishes, the first k elements of nums will contain the elements that are not equal to val.\n",
        "* Finally, we return the value of k, which represents the number of elements in nums that are not equal to val.\n",
        "\n",
        "You can create an instance of the Solution class and call the removeElement method on it, passing the nums array and the val as arguments. The method will modify the nums array in-place and return the number of elements not equal to val.\n",
        "\n",
        "The **time complexity of the code is O(n)**, where n is the length of the nums list. This is because the for loop iterates through the nums list, and the if statement checks each element in the list to see if it is equal to val. The worst-case scenario is when all of the elements in the nums list are equal to val, in which case the for loop will iterate through the entire list."
      ],
      "metadata": {
        "id": "yPWfroSNGOML"
      }
    },
    {
      "cell_type": "code",
      "source": [
        "nums = [3,2,2,3]\n",
        "val = 3\n",
        "# num will look like [3,3,2,2] after the function runs. Since there are two values that are not 2, k = 2\n",
        "\n",
        "'''\n",
        "nums = [0,1,2,2,3,0,4,2]\n",
        "val = 2\n",
        "'''\n",
        "\n",
        "class Solution:\n",
        "    def removeElement(self, nums, val) -> int:\n",
        "        k = 0  # Variable to keep track of the number of elements not equal to val\n",
        "\n",
        "        for i in range(len(nums)):\n",
        "            if nums[i] != val:\n",
        "                nums[k] = nums[i]\n",
        "                k += 1\n",
        "\n",
        "        return k\n",
        "\n",
        "\n",
        "s= Solution()\n",
        "s.removeElement(nums, val)\n"
      ],
      "metadata": {
        "colab": {
          "base_uri": "https://localhost:8080/"
        },
        "id": "TWshMHxJEpge",
        "outputId": "1d1891f6-ae6d-4faa-e7fc-7d80fd619494"
      },
      "execution_count": null,
      "outputs": [
        {
          "output_type": "execute_result",
          "data": {
            "text/plain": [
              "2"
            ]
          },
          "metadata": {},
          "execution_count": 6
        }
      ]
    },
    {
      "cell_type": "code",
      "source": [],
      "metadata": {
        "id": "49rApyvKMNyH"
      },
      "execution_count": null,
      "outputs": []
    },
    {
      "cell_type": "markdown",
      "source": [
        "\"Then return the number of elements in nums which are not equal to val.\"\n",
        "\n",
        "Only need to return the amount elements not equal to the specified value (val). So the answer is 2."
      ],
      "metadata": {
        "id": "HiY5MyMsM7L3"
      }
    },
    {
      "cell_type": "markdown",
      "source": [
        "**1929. Concatenation of Array (Dynamic Arrays)**\n",
        "\n",
        "\n",
        "Given an integer array nums of length `n`, you want to create an array `ans` of length `2n` where `ans[i] == nums[i]` and `ans[i + n] == nums[i]` for `0 <= i < n`\n",
        "(**0-indexed**).\n",
        "\n",
        "Specifically, `ans` is the concatenation of two `nums` arrays.\n",
        "\n",
        "Return the array `ans`.\n",
        "\n",
        "Example 1:\n",
        "```\n",
        "Input: nums = [1,2,1]\n",
        "Output: [1,2,1,1,2,1]\n",
        "Explanation: The array ans is formed as follows:\n",
        "- ans = [nums[0],nums[1],nums[2],nums[0],nums[1],nums[2]]\n",
        "- ans = [1,2,1,1,2,1]\n",
        "\n",
        "```\n",
        "\n",
        "Example 2:\n",
        "```\n",
        "Input: nums = [1,3,2,1]\n",
        "Output: [1,3,2,1,1,3,2,1]\n",
        "Explanation: The array ans is formed as follows:\n",
        "- ans = [nums[0],nums[1],nums[2],nums[3],nums[0],nums[1],nums[2],nums[3]]\n",
        "- ans = [1,3,2,1,1,3,2,1]\n",
        "```\n",
        "\n",
        "Constraints:\n",
        "\n",
        "- ```n == nums.length```\n",
        "- ```1 <= n <= 1000```\n",
        "- ```1 <= nums[i] <= 1000```\n"
      ],
      "metadata": {
        "id": "xxCERssG5lk7"
      }
    },
    {
      "cell_type": "code",
      "source": [
        "class Solution:\n",
        "  def getConcatentation(self, nums: List[int]) -> List[int]:\n",
        "    ans = [] # This line creates an empty list called ans\n",
        "    for i in range(2):  # This line iterates 2 times\n",
        "        for n in nums: # This line iterates through the nums list\n",
        "          ans.append(i) # This line appends the current element of the nums list to the end of the list\n",
        "    return ans  # This line returns the value of the nums list.\n",
        "\n"
      ],
      "metadata": {
        "id": "HGsMlMXJ5xVN"
      },
      "execution_count": null,
      "outputs": []
    },
    {
      "cell_type": "markdown",
      "source": [
        "The **total time complexity of the solution is O(n)**, where n is the length of the nums list.\n",
        "\n",
        "This is because the for loop iterates through the nums list twice, and the append() method takes constant time."
      ],
      "metadata": {
        "id": "TaRsvnYo-iDw"
      }
    },
    {
      "cell_type": "markdown",
      "source": [
        "This solution does the same operation as above, but in 1 line of code. Also is an accepted answer on Leetcode."
      ],
      "metadata": {
        "id": "XFhA3j47_V1c"
      }
    },
    {
      "cell_type": "code",
      "source": [
        "class Solution:\n",
        "    def getConcatenation(self, nums: List[int]) -> List[int]:\n",
        "      return nums * 2 #This line multiplies the nums list by  2. This takes linear time."
      ],
      "metadata": {
        "id": "kQ0qJdGy-k6S"
      },
      "execution_count": null,
      "outputs": []
    },
    {
      "cell_type": "markdown",
      "source": [
        "The total time complexity of the code is the time complexity of the * operator, **which is O(n)**.\n",
        "\n",
        "Here is a more detailed explanation of the time complexity of the * operator:\n",
        "\n",
        "The * operator takes linear time to multiply two lists because it has to iterate through each element of the first list and multiply it by each element of the second list.\n",
        "\n",
        "The worst-case scenario is when the two lists are of equal length, in which case the * operator will have to iterate through each element of both lists."
      ],
      "metadata": {
        "id": "uK09GMHc_qHJ"
      }
    },
    {
      "cell_type": "code",
      "source": [
        "nums = [1,2,1]\n",
        "\n",
        "class Solution:\n",
        "    def getConcatenation(self, nums) -> int:\n",
        "      return nums * 2\n",
        "\n",
        "solution = Solution()\n",
        "solution.getConcatenation(nums)"
      ],
      "metadata": {
        "colab": {
          "base_uri": "https://localhost:8080/"
        },
        "id": "1TKRdLAG_i_J",
        "outputId": "bbec3840-dd8b-46b9-cde0-566ff6906661"
      },
      "execution_count": null,
      "outputs": [
        {
          "output_type": "execute_result",
          "data": {
            "text/plain": [
              "[1, 2, 1, 1, 2, 1]"
            ]
          },
          "metadata": {},
          "execution_count": 4
        }
      ]
    },
    {
      "cell_type": "markdown",
      "source": [
        "**682. Baseball Game (Stacks)**\n",
        "\n",
        "You are keeping the scores for a baseball game with strange rules. At the beginning of the game, you start with an empty record.\n",
        "\n",
        "You are given a list of strings operations, where operations[i] is the ith operation you must apply to the record and is one of the following:\n",
        "\n",
        "\n",
        "`An integer x:`\n",
        "Record a new score of x.\n",
        "\n",
        "`'+':`\n",
        "Record a new score that is the sum of the previous two scores.\n",
        "\n",
        "`'D':`\n",
        "Record a new score that is the double of the previous score.\n",
        "\n",
        "`'C':`\n",
        "Invalidate the previous score, removing it from the record.\n",
        "\n",
        "Return the sum of all the scores on the record after applying all the operations.\n",
        "\n",
        "The test cases are generated such that the answer and all intermediate calculations fit in a **32-bit** integer and that all operations are valid.\n",
        "\n",
        "**Example 1:**\n",
        "```\n",
        "Input: ops = [\"5\",\"2\",\"C\",\"D\",\"+\"]\n",
        "Output: 30\n",
        "Explanation:\n",
        "\"5\" - Add 5 to the record, record is now [5].\n",
        "\"2\" - Add 2 to the record, record is now [5, 2].\n",
        "\"C\" - Invalidate and remove the previous score, record is now [5].\n",
        "\"D\" - Add 2 * 5 = 10 to the record, record is now [5, 10].\n",
        "\"+\" - Add 5 + 10 = 15 to the record, record is now [5, 10, 15].\n",
        "The total sum is 5 + 10 + 15 = 30.\n",
        "```\n",
        "**Example 2:**\n",
        "```\n",
        "Input: ops = [\"5\",\"-2\",\"4\",\"C\",\"D\",\"9\",\"+\",\"+\"]\n",
        "Output: 27\n",
        "Explanation:\n",
        "\"5\" - Add 5 to the record, record is now [5].\n",
        "\"-2\" - Add -2 to the record, record is now [5, -2].\n",
        "\"4\" - Add 4 to the record, record is now [5, -2, 4].\n",
        "\"C\" - Invalidate and remove the previous score, record is now [5, -2].\n",
        "\"D\" - Add 2 * -2 = -4 to the record, record is now [5, -2, -4].\n",
        "\"9\" - Add 9 to the record, record is now [5, -2, -4, 9].\n",
        "\"+\" - Add -4 + 9 = 5 to the record, record is now [5, -2, -4, 9, 5].\n",
        "\"+\" - Add 9 + 5 = 14 to the record, record is now [5, -2, -4, 9, 5, 14].\n",
        "The total sum is 5 + -2 + -4 + 9 + 5 + 14 = 27.\n",
        "```\n",
        "\n",
        "**Example 3:**\n",
        "```\n",
        "Input: ops = [\"1\",\"C\"]\n",
        "Output: 0\n",
        "Explanation:\n",
        "\"1\" - Add 1 to the record, record is now [1].\n",
        "\"C\" - Invalidate and remove the previous score, record is now [].\n",
        "Since the record is empty, the total sum is 0.\n",
        "```\n",
        "\n",
        "**Constraints:**\n",
        "\n",
        "- 1 <= operations.length <= 1000\n",
        "- operations[i] is \"C\", \"D\", \"+\", or a string representing an integer in the range [-3 * 104, 3 * 104].\n",
        "- For operation \"+\", there will always be at least two previous scores on the record.\n",
        "- For operations \"C\" and \"D\", there will always be at least one previous score on the record."
      ],
      "metadata": {
        "id": "dKiSOxA5MPnp"
      }
    },
    {
      "cell_type": "code",
      "source": [
        "class Solution:\n",
        "    def calPoints(self, operations: List[str]) -> int:\n",
        "        stack = []                                      # Creates an empty stack to store the scores.\n",
        "        for o in operations:                            # Iterates through the operations list.\n",
        "            match o:                                    # Uses the match statement to check the value of the o variable and perform an action based on the value.\n",
        "                case '+':                               # Executes if the value of the o variable is +.\n",
        "                    stack.append(stack[-1] + stack[-2]) # Adds the previous two scores on the stack and appends the result to the stack. [-1] is the last value in the stack, [-2] second to last\n",
        "                case 'D':                               # Executes if the value of the o variable is D.\n",
        "                    stack.append(stack[-1]*2)           # Doubles the previous score on the stack and appends the result to the stack.\n",
        "                case 'C':                               # Executes if the value of the o variable is C.\n",
        "                    stack.pop()                         # Pop the top element of the stack.\n",
        "                case _:                                 # If the o in operation is not +, D, or C\n",
        "                    stack.append(int(o))                # convert o into an integer and add it to the stack\n",
        "\n",
        "        return sum(stack)                               # return the sum of the stack"
      ],
      "metadata": {
        "id": "ZtWa7yKkMQdk"
      },
      "execution_count": null,
      "outputs": []
    },
    {
      "cell_type": "markdown",
      "source": [
        "calPoints() function would first create a stack to store the points. Then, it would iterate over the operations list and perform the following actions for each operation:\n",
        "\n",
        "- If the operation is +, the function would add the top two elements of the stack.\n",
        "- If the operation is D, the function would double the top element of the stack.\n",
        "- If the operation is C, the function would pop the top element of the stack.\n",
        "- If the operation is not +, D, or C, the function would convert it to an integer and add it to the stack.\n",
        "\n",
        "Finally, the function would return the sum of the stack."
      ],
      "metadata": {
        "id": "WkUTaGchSFwM"
      }
    },
    {
      "cell_type": "markdown",
      "source": [
        "The time complexity of the calPoints() function is O(n), where n is the number of operations in the operations list. This is because the function iterates over the list once and performs a constant amount of work for each operation.\n",
        "\n",
        "Here is a more detailed explanation of the time complexity:\n",
        "- The calPoints() function first creates a stack to store the points. This operation takes O(1) time.\n",
        "- The function then iterates over the operations list. This operation takes O(n) time.\n",
        "- For each operation, the function performs a constant amount of work. This work includes:\n",
        "-- Matching the operation to a case.\n",
        "-- Adding the top two elements of the stack if the operation is +.\n",
        "-- Doubling the top element of the stack if the operation is D.\n",
        "-- Popping the top element of the stack if the operation is C.\n",
        "-- Converting the operation to an integer and adding it to the stack if the operation is not +, D, or C.\n",
        "\n",
        "The total time complexity of the calPoints() function is O(n) because the time taken to iterate over the list is the dominant factor."
      ],
      "metadata": {
        "id": "f3r_ougnSdGc"
      }
    },
    {
      "cell_type": "code",
      "source": [
        "ops = [\"5\",\"2\",\"C\",\"D\",\"+\"] # should return 30\n",
        "#ops = [\"5\",\"-2\",\"4\",\"C\",\"D\",\"9\",\"+\",\"+\"] # should return 27\n",
        "#ops = [\"1\",\"C\"] # should return 0\n",
        "\n",
        "class Solution:\n",
        "    def calPoints(self, operations) -> int:\n",
        "        stack = []\n",
        "        for o in operations:\n",
        "            match o:\n",
        "                case '+':\n",
        "                    stack.append(stack[-1] + stack[-2])\n",
        "                case 'D':\n",
        "                    stack.append(stack[-1]*2)\n",
        "                case 'C':\n",
        "                    stack.pop()\n",
        "                case _:\n",
        "                    stack.append(int(o))\n",
        "\n",
        "        return sum(stack)\n",
        "\n",
        "s= Solution()\n",
        "s.calPoints(ops)\n"
      ],
      "metadata": {
        "colab": {
          "base_uri": "https://localhost:8080/"
        },
        "id": "myFO6cBFMWDR",
        "outputId": "3955f6a7-dd09-4a1e-a469-72afd376592c"
      },
      "execution_count": null,
      "outputs": [
        {
          "output_type": "execute_result",
          "data": {
            "text/plain": [
              "30"
            ]
          },
          "metadata": {},
          "execution_count": 1
        }
      ]
    },
    {
      "cell_type": "markdown",
      "source": [
        "**206. Reverse Linked List**\n",
        "\n",
        "Given the head of a singly linked list, reverse the list, and return the reversed list.\n",
        "\n",
        "**Example 1:**\n",
        "\n",
        "![linked list 1.PNG](data:image/png;base64,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)\n",
        "\n",
        "```\n",
        "Input: head = [1,2,3,4,5]\n",
        "Output: [5,4,3,2,1]\n",
        "```\n",
        "\n",
        "**Example 2:**\n",
        "\n",
        "![linked list 2.PNG](data:image/png;base64,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)\n",
        "```\n",
        "Input: head = [1,2]\n",
        "Output: [2,1]\n",
        "```\n",
        "\n",
        "**Example 3:**\n",
        "```\n",
        "Input: head = []\n",
        "Output: []\n",
        "```\n",
        "\n",
        "**Constraints:**\n",
        "\n",
        "- The number of nodes in the list is the range `[0, 5000]`.\n",
        "- `-5000 <= Node.val <= 5000`\n",
        "\n",
        "**Follow up:** A linked list can be reversed either iteratively or recursively. Could you implement both?"
      ],
      "metadata": {
        "id": "Jsk0_ocT_OMb"
      }
    },
    {
      "cell_type": "markdown",
      "source": [
        "Following code not runnable in collaboratory. They are runnable in Leetcode.\n",
        "\n",
        "https://leetcode.com/problems/reverse-linked-list/submissions/972204965/"
      ],
      "metadata": {
        "id": "aUfCTjRtH7ss"
      }
    },
    {
      "cell_type": "code",
      "source": [
        "# Definition for singly-linked list.\n",
        "class ListNode:\n",
        "    def __init__(self, val=0, next=None):\n",
        "        self.val = val\n",
        "        self.next = next\n",
        "\n",
        "# iterative approach (seems to be the most straighforward solution)\n",
        "# time complexity O(n) and space complexity of O(1)\n",
        "# video solution explaination: https://youtu.be/W1BLGgWZhK8\n",
        "class Solution:\n",
        "    def reverseList(self, head: Optional[ListNode]) -> Optional[ListNode]:\n",
        "        new_list = None                      # Initializes the new_list variable to None. The new_list variable will store the head of the reversed linked list.\n",
        "        current_node = head                  # Initializes the current variable to the head node of the original linked list.\n",
        "\n",
        "        while current_node:                  # Creates a loop that will run as long as the current node is not None.\n",
        "            next_node = current_node.next    # Stores the next node of the current node in the next_node variable.\n",
        "            current_node.next = new_list     # Sets the next node of the current node to the new_list node. This effectively reverses the link between the current node and the next node in the original linked list.\n",
        "            new_list = current_node          # Updates the new_list variable to point to the current node. This is done so that the new_list variable can be used to store the head of the reversed linked list.\n",
        "            current_node = next_node         # Moves the current pointer to the next node in the original linked list.\n",
        "        return new_list                      # Returns the new_list pointer, which now points to the head of the reversed linked list.\n"
      ],
      "metadata": {
        "id": "yq5WnaG8_3do"
      },
      "execution_count": null,
      "outputs": []
    },
    {
      "cell_type": "markdown",
      "source": [
        "The overall time complexity of this algorithm is **O(n)**, where n is the number of nodes in the linked list. This is because the algorithm traverses each node in the linked list exactly once."
      ],
      "metadata": {
        "id": "SBYs7LyMJX_o"
      }
    },
    {
      "cell_type": "code",
      "source": [
        "# recursive approach\n",
        "# time complexity O(n) and space complexity of O(n)\n",
        "class Solution:\n",
        "    def reverseList(self, head: Optional[ListNode]) -> Optional[ListNode]:\n",
        "\n",
        "        if not head:                                # This line checks if the head of the linked list is None. If it is, then the function returns None.\n",
        "            return None\n",
        "\n",
        "        newHead = head                              # This line assigns the head pointer to the newHead pointer. This is done so that the newHead pointer can be used to store the head of the reversed linked list.\n",
        "        if head.next:                               # This line checks if the next node in the linked list is not None.\n",
        "            newHead = self.reverseList(head.next)   # If it is, then the function recursively calls itself to reverse the linked list starting from the next node. The newHead pointer is then updated to point to the head of the reversed linked list.\n",
        "            head.next.next = head                   # The head.next.next = head line is used to update the next pointer of the previous node in the reversed linked list to point to the current node.\n",
        "        head.next = None                            # This line sets the next pointer of the current node to None. This is done to break the link between the current node and the next node in the original linked list.\n",
        "\n",
        "        return newHead                              # This line returns the newHead pointer, which now points to the head of the reversed linked list.\n",
        "\n",
        "        # -> 1\n",
        "        # -> 1 -> 2\n"
      ],
      "metadata": {
        "id": "vE_d6GkZEtPu"
      },
      "execution_count": null,
      "outputs": []
    },
    {
      "cell_type": "markdown",
      "source": [
        "The overall time complexity of this algorithm is **O(n)**, where n is the number of nodes in the linked list. This is because the algorithm traverses each node in the linked list exactly once."
      ],
      "metadata": {
        "id": "XRagdDZoK2BF"
      }
    },
    {
      "cell_type": "markdown",
      "source": [
        "**1472. Design Browser History (Doubly Linked List)**\n",
        "\n",
        "You have a browser of one tab where you start on the homepage and you can visit another url, get back in the history number of steps or move forward in the history number of steps.\n",
        "\n",
        "Implement the BrowserHistory class:\n",
        "\n",
        "- BrowserHistory(string homepage) Initializes the object with the homepage of the browser.\n",
        "\n",
        "- void visit(string url) Visits url from the current page. It clears up all the forward history.\n",
        "\n",
        "- string back(int steps) Move steps back in history. If you can only return x steps in the history and steps > x, you will return only x steps. Return the current url after moving back in history at most steps.\n",
        "\n",
        "- string forward(int steps) Move steps forward in history. If you can only forward x steps in the history and steps > x, you will forward only x steps. Return the current url after forwarding in history at most steps.\n",
        "\n",
        "Example:\n",
        "\n",
        "Input:\n",
        "[\"BrowserHistory\",\"visit\",\"visit\",\"visit\",\"back\",\"back\",\"forward\",\"visit\",\"forward\",\"back\",\"back\"]\n",
        "[[\"leetcode.com\"],[\"google.com\"],[\"facebook.com\"],[\"youtube.com\"],[1],[1],[1],[\"linkedin.com\"],[2],[2],[7]]\n",
        "Output:\n",
        "[null,null,null,null,\"facebook.com\",\"google.com\",\"facebook.com\",null,\"linkedin.com\",\"google.com\",\"leetcode.com\"]\n",
        "\n",
        "**Explanation:**\n",
        "```\n",
        "BrowserHistory browserHistory = new BrowserHistory(\"leetcode.com\");\n",
        "browserHistory.visit(\"google.com\");       // You are in \"leetcode.com\". Visit \"google.com\"\n",
        "browserHistory.visit(\"facebook.com\");     // You are in \"google.com\". Visit \"facebook.com\"\n",
        "browserHistory.visit(\"youtube.com\");      // You are in \"facebook.com\". Visit \"youtube.com\"\n",
        "browserHistory.back(1);                   // You are in \"youtube.com\", move back to \"facebook.com\" return \"facebook.com\"\n",
        "browserHistory.back(1);                   // You are in \"facebook.com\", move back to \"google.com\" return \"google.com\"\n",
        "browserHistory.forward(1);                // You are in \"google.com\", move forward to \"facebook.com\" return \"facebook.com\"\n",
        "browserHistory.visit(\"linkedin.com\");     // You are in \"facebook.com\". Visit \"linkedin.com\"\n",
        "browserHistory.forward(2);                // You are in \"linkedin.com\", you cannot move forward any steps.\n",
        "browserHistory.back(2);                   // You are in \"linkedin.com\", move back two steps to \"facebook.com\" then to \"google.com\". return \"google.com\"\n",
        "browserHistory.back(7);                   // You are in \"google.com\", you can move back only one step to \"leetcode.com\". return \"leetcode.com\"\n",
        "```\n",
        "\n",
        "**Constraints:**\n",
        "- `1 <= homepage.length <= 20`\n",
        "- `1 <= url.length <= 20`\n",
        "- `1 <= steps <= 100`\n",
        "- `homepage and url consist of  '.' or lower case English letters.`\n",
        "- `At most 5000 calls will be made to visit, back, and forward.`\n",
        "\n",
        "\n"
      ],
      "metadata": {
        "id": "YwkouMYhforp"
      }
    },
    {
      "cell_type": "code",
      "source": [
        "class ListNode:                                             # Defines the ListNode class. A ListNode is a node in a linked list. Each ListNode has a value, a previous node, and a next node.\n",
        "    def __init__(self, val, prev=None, next=None):\n",
        "        self.val = val                                      # stores the value of the ListNode in the val attribute.\n",
        "        self.prev = prev                                    # stores the previous ListNode in the prev attribute.\n",
        "        self.next = next                                    # This line stores the next ListNode in the next attribute.\n",
        "\n",
        "class BrowserHistory:\n",
        "    def __init__(self, homepage: str):                      # defines the BrowserHistory class. A BrowserHistory object stores a linked list of visited URLs. The current attribute of a BrowserHistory object points to the most recently visited URL.\n",
        "        self.current = ListNode(homepage)                   # initializes the current attribute of the BrowserHistory object to a ListNode object with the value of homepage.\n",
        "\n",
        "    def visit(self, url: str) -> None:                      # adds a new ListNode object with the value of url to the linked list of visited URLs.\n",
        "        self.current.next = ListNode(url, self.current)     # The new ListNode object is inserted after the current ListNode object.\n",
        "        self.current = self.current.next                    # The current ListNode object is then updated to point to the new ListNode object.\n",
        "\n",
        "    def back(self, steps: int) -> str:                      # moves the current ListNode object steps nodes back in the linked list of visited URLs.\n",
        "        while self.current.prev and steps > 0               # If steps is greater than the number of nodes in the linked list,\n",
        "            self.current = self.current.prev                # then the current ListNode object is set to None.\n",
        "            steps -= 1\n",
        "        return self.current.val                             # The value of the current ListNode object is then returned.\n",
        "\n",
        "    def forward(self, steps: int) -> str:                   # moves the current ListNode object steps nodes forward in the linked list of visited URLs.\n",
        "         while self.current.next and steps > 0              # If steps is greater than the number of nodes in the linked list\n",
        "            self.current = self.current.next                # then the current ListNode object is set to the last node in the linked list\n",
        "            steps -= 1\n",
        "         return self.current.val                            # The value of the current ListNode object is then returned.\n",
        "\n",
        "\n",
        "\n",
        "# Your BrowserHistory object will be instantiated and called as such:\n",
        "# obj = BrowserHistory(homepage)\n",
        "# obj.visit(url)\n",
        "# param_2 = obj.back(steps)\n",
        "# param_3 = obj.forward(steps)"
      ],
      "metadata": {
        "id": "oJTGojA_gsJd"
      },
      "execution_count": null,
      "outputs": []
    },
    {
      "cell_type": "markdown",
      "source": [
        "The overall time complexity of the BrowserHistory class is **O(n)**, where n is the number of nodes in the linked list of visited URLs. This is because all of the methods in the BrowserHistory class traverse the linked list of visited URLs exactly once."
      ],
      "metadata": {
        "id": "zmmuxMGGoBNE"
      }
    },
    {
      "cell_type": "markdown",
      "source": [
        "**225. Implement Stack using Queues (Queues)**\n",
        "\n",
        "Implement a last-in-first-out (LIFO) stack using only two queues. The implemented stack should support all the functions of a normal stack (push, top, pop, and empty).\n",
        "\n",
        "Implement the `MyStack` class:\n",
        "\n",
        "- void push(int x) Pushes element x to the top of the stack.\n",
        "\n",
        "- int pop() Removes the element on the top of the stack and returns it.\n",
        "\n",
        "- int top() Returns the element on the top of the stack.\n",
        "\n",
        "- boolean empty() Returns true if the stack is empty, false otherwise.\n",
        "\n",
        "**Notes:**\n",
        "\n",
        "- You must use only standard operations of a queue, which means that only push to back, peek/pop from front, size and is empty operations are valid.\n",
        "\n",
        "- Depending on your language, the queue may not be supported natively. You may simulate a queue using a list or deque (double-ended queue) as long as you use only a queue's standard operations.\n",
        "\n",
        "**Example 1:**\n",
        "```\n",
        "Input\n",
        "[\"MyStack\", \"push\", \"push\", \"top\", \"pop\", \"empty\"]\n",
        "[[], [1], [2], [], [], []]\n",
        "\n",
        "Output\n",
        "[null, null, null, 2, 2, false]\n",
        "\n",
        "Explanation\n",
        "MyStack myStack = new MyStack();\n",
        "myStack.push(1);\n",
        "myStack.push(2);\n",
        "myStack.top(); // return 2\n",
        "myStack.pop(); // return 2\n",
        "myStack.empty(); // return False\n",
        "```"
      ],
      "metadata": {
        "id": "yamYcyhsJVBq"
      }
    },
    {
      "cell_type": "code",
      "source": [
        "class MyStack:                                # A simple stack implementation using a deque.\n",
        "\n",
        "    def __init__(self):\n",
        "        self.q = deque()                      # Initialize the stack.\n",
        "\n",
        "    def push(self, x: int) -> None:           # Add an element to the stack.\n",
        "        self.q.append(x)                      # Append the element to the deque. Argument x: element to add to the stack.\n",
        "\n",
        "    def pop(self) -> int:                     # Remove an element from the stack.\n",
        "        return self.q.pop()                   # Pop the last element off the deque.\n",
        "\n",
        "    def top(self) -> int:                     # Return the top element of the stack.\n",
        "        return self.q[-1]                     # Get the last element of the deque.\n",
        "\n",
        "    def empty(self) -> bool:                  # Return True if the stack is empty, False otherwise.\n",
        "        return len(self.q) == 0               # Check if the deque is empty.\n",
        "\n",
        "# Your MyStack object will be instantiated and called as such:\n",
        "# obj = MyStack()\n",
        "# obj.push(x)\n",
        "# param_2 = obj.pop()\n",
        "# param_3 = obj.top()\n",
        "# param_4 = obj.empty()"
      ],
      "metadata": {
        "id": "u3Anl_tEKETZ"
      },
      "execution_count": null,
      "outputs": []
    },
    {
      "cell_type": "markdown",
      "source": [
        "\n",
        "The overall time complexity of the MyStack class is **O(n)** for all operations, where n is the number of elements in the stack. This is because all operations require iterating over the entire stack, which takes time proportional to the number of elements in the stack.\n",
        "\n",
        "- push: O(1)\n",
        "\n",
        "- pop:\tO(n)\n",
        "\n",
        "- top:\tO(1)\n",
        "\n",
        "- empty:\tO(1)\n",
        "\n",
        "The push operation is **O(1)** because it only requires adding an element to the end of the deque, which can be done in constant time.\n",
        "\n",
        "The pop operation is **O(n)** because it requires iterating over the entire deque to find the last element, which takes time proportional to the number of elements in the deque.\n",
        "\n",
        "The top operation is **O(1)** because it only requires accessing the last element of the deque, which can be done in constant time.\n",
        "\n",
        "The empty operation is **O(1)** because it only requires checking the length of the deque, which can be done in constant time.\n",
        "\n"
      ],
      "metadata": {
        "id": "afUBiVIYR4K3"
      }
    },
    {
      "cell_type": "markdown",
      "source": [
        "**70. Climbing Stairs**\n",
        "\n",
        "You are climbing a staircase. It takes n steps to reach the top.\n",
        "\n",
        "Each time you can either climb 1 or 2 steps. In how many distinct ways can you climb to the top?\n",
        "\n",
        "**Example 1:**\n",
        "```\n",
        "Input: n = 2\n",
        "Output: 2\n",
        "Explanation: There are two ways to climb to the top.\n",
        "1. 1 step + 1 step\n",
        "2. 2 steps\n",
        "```\n",
        "\n",
        "**Example 2:**\n",
        "```\n",
        "Input: n = 3\n",
        "Output: 3\n",
        "Explanation: There are three ways to climb to the top.\n",
        "1. 1 step + 1 step + 1 step\n",
        "2. 1 step + 2 steps\n",
        "3. 2 steps + 1 step\n",
        "```\n"
      ],
      "metadata": {
        "id": "gIfwknxRZKwH"
      }
    },
    {
      "cell_type": "code",
      "source": [
        "#video solution: https://www.youtube.com/watch?v=Y0lT9Fck7qI\n",
        "\n",
        "class Solution:\n",
        "    def climbStairs(self, n: int) -> int:\n",
        "        one = 1                   # The variable one is initialized to 1, which represents the number of ways to climb to the top of the staircase in 1 step.\n",
        "        two = 1                   # The variable two is initialized to 1, which represents the number of ways to climb to the top of the staircase in 2 steps.\n",
        "\n",
        "        for i in range(n - 1):    # The loop iterates from 0 to n - 1. The loop terminates when the value of i is equal to n - 1.\n",
        "            temp = one            # In each iteration, the value of temp is set to the value of one.\n",
        "            one = one + two       # The value of one is then set to the sum of one and two.\n",
        "            two = temp            # The value of two is then set to temp.\n",
        "\n",
        "        return one                # At this point, the value of one will be the number of ways to climb to the top of the staircase in n steps."
      ],
      "metadata": {
        "id": "iszjaWpDZlqG"
      },
      "execution_count": null,
      "outputs": []
    },
    {
      "cell_type": "markdown",
      "source": [
        "The code you provided is a dynamic programming solution to the climbing stairs problem. Dynamic programming is a technique for solving problems by breaking them down into smaller subproblems and then using the solutions to the subproblems to solve the original problem.\n",
        "\n",
        "The code works by first initializing two variables, one and two, to 1. These variables represent the number of ways to climb to the top of the staircase in 1 step and 2 steps, respectively.\n",
        "\n",
        "The loop then iterates from 0 to n - 1, where n is the number of steps in the staircase. In each iteration, the value of temp is set to the value of one. The value of one is then set to the sum of one and two. The value of two is then set to temp.\n",
        "\n",
        "This process effectively calculates the number of ways to climb to the top of the staircase in n steps by calculating the number of ways to climb to the top of the staircase in n - 1 steps and n - 2 steps, and then adding those two values together.\n",
        "\n",
        "The loop terminates when the value of i is equal to n - 1. At this point, the value of one will be the number of ways to climb to the top of the staircase in n steps.\n",
        "\n",
        "The function then returns the value of one.\n",
        "\n",
        "The time complexity of the code is **O(n).** This is because the loop iterates n - 1 times, and each iteration takes constant time."
      ],
      "metadata": {
        "id": "_5_fKk0_fCsJ"
      }
    },
    {
      "cell_type": "markdown",
      "source": [
        "**912. Sort an Array**\n",
        "\n",
        "Given an array of integers nums, sort the array in ascending order and return it.\n",
        "\n",
        "You must solve the problem without using any built-in functions in O(nlog(n)) time complexity and with the smallest space complexity possible.\n",
        "\n",
        "**Example 1:**\n",
        "```\n",
        "Input: nums = [5,2,3,1]\n",
        "Output: [1,2,3,5]\n",
        "Explanation: After sorting the array, the positions of some numbers are not changed (for example, 2 and 3), while the positions of other numbers are changed (for example, 1 and 5).\n",
        "```\n",
        "\n",
        "**Example 2:**\n",
        "```\n",
        "Input: nums = [5,1,1,2,0,0]\n",
        "Output: [0,0,1,1,2,5]\n",
        "Explanation: Note that the values of nums are not necessairly unique.\n",
        "```\n",
        "\n",
        "**Constraints:**\n",
        "```\n",
        "- 1 <= nums.length <= 5 * 104\n",
        "- 5 * 104 <= nums[i] <= 5 * 104\n",
        "```\n",
        "\n"
      ],
      "metadata": {
        "id": "d3mng3t61Sy7"
      }
    },
    {
      "cell_type": "code",
      "source": [
        "# epic two liner\n",
        "# solution is accepted on leetcode even though it breaks the rules of related the question\n",
        "class Solution:\n",
        "    def sortArray(self, nums: List[int]) -> List[int]:\n",
        "        nums.sort()       #  calls the sort() method on the nums variable. The sort() method sorts the nums array in ascending order.\n",
        "        return nums"
      ],
      "metadata": {
        "id": "kos3DgikB25_"
      },
      "execution_count": null,
      "outputs": []
    },
    {
      "cell_type": "markdown",
      "source": [
        "Here is a breakdown of the time complexity of the sort() method:\n",
        "\n",
        "The first step of the merge sort algorithm is to divide the array in half. This takes **O(n)** time.\n",
        "\n",
        "The second step of the merge sort algorithm is to recursively sort the two halves of the array. This takes **O(n log n)** time in total.\n",
        "\n",
        "The third step of the merge sort algorithm is to merge the two sorted halves of the array. This takes **O(n)** time.\n",
        "\n",
        "The overall time complexity of the merge sort algorithm is **O(n log n)**, which is the sum of the time complexity of the first two steps and the third step.\n",
        "\n"
      ],
      "metadata": {
        "id": "2wOOtIVOCRsS"
      }
    },
    {
      "cell_type": "code",
      "source": [
        "# uses the PriorityQueue python library\n",
        "# solution is accepted on leetcode even though it breaks the rules related to the question\n",
        "\n",
        "from queue import PriorityQueue as pq\n",
        "class Solution:\n",
        "    def sortArray(self, nums: List[int]) -> List[int]:\n",
        "        q = pq()\n",
        "        for i in nums: q.put(i)\n",
        "        for i in range(len(nums)): nums[i] = q.get()\n",
        "        return nums\n"
      ],
      "metadata": {
        "id": "bW77QdRofqVW"
      },
      "execution_count": null,
      "outputs": []
    },
    {
      "cell_type": "markdown",
      "source": [
        "The overall time complexity of the sortArray() function is **O(n log n)**, where n is the length of the nums array. This is because the PriorityQueue class implements a heap data structure, which has a time complexity of **O(log n)** for insertion and deletion operations.\n",
        "\n",
        "The sortArray() function works by first inserting all of the elements of the nums array into the q priority queue. The q priority queue will sort the elements of the array in ascending order. The sortArray() function then iterates over the nums array and assigns the element at index i to the element that is dequeued from the q priority queue. This will sort the nums array in ascending order."
      ],
      "metadata": {
        "id": "nT6XRTDdGskZ"
      }
    },
    {
      "cell_type": "code",
      "source": [
        "# the following solution is essentially creating the built-in python \"sort()\" function from scratch\n",
        "# this is the type of solution that is most likely being looked for in coding interviews. (In real life just use sort()..)\n",
        "\n",
        "class Solution:\n",
        "    def sortArray(self, nums: List[int]) -> List[int]:\n",
        "        def mergesort(arr = nums):                            # Within the sortArray method, there is a helper function called mergesort. It takes an array arr as input, which is set to the nums array by default.\n",
        "            if len(arr) - 1:                                  # This line checks if the length of the input array arr is not zero. If it's zero, the function returns without doing anything.\n",
        "                                                              # These lines divide the array arr into two halves: left and right.\n",
        "                mid = len(arr) // 2                           # The mid index is calculated by finding the floor division of the length of arr by 2.\n",
        "                left = arr[:mid]                              # The left array contains elements from the start of arr up to the mid index (exclusive)\n",
        "                right = arr[mid:]                             # the right array contains elements from the mid index onwards.\n",
        "                mergesort(left)                               # These recursive calls to the mergesort function sort the left and right subarrays independently.\n",
        "                mergesort(right)\n",
        "                                                              # These lines initialize three index variables i, j, and k to 0.\n",
        "                i = 0                                         # i is used to iterate over the left array,\n",
        "                j = 0                                         # j is used to iterate over the right array,\n",
        "                k = 0                                         # and k is used to keep track of the position in the arr array where elements will be merged.\n",
        "\n",
        "                while i < len(left) and j < len(right):       # This while loop compares elements from the 'left' and 'right' arrays and merges them in ascending order into the arr array. The loop continues as long as both i and j are within their respective array lengths.\n",
        "                    if left[i] <= right[j]:                   # If the current element in 'left' is smaller or equal to the current element in 'right'\n",
        "                        arr[k] = left[i]                      # it is placed in arr, and i and k are incremented.\n",
        "                        i += 1\n",
        "                    else:\n",
        "                        arr[k] = right[j]                     # Otherwise, the current element in right is placed in arr, and j and k are incremented.\n",
        "                        j += 1\n",
        "                    k += 1\n",
        "\n",
        "                while i < len(left):                          # After the previous while loop, one of the subarrays (left or right) might have remaining elements.\n",
        "                    arr[k] = left[i]                          # These lines copy any remaining elements from the left array to the arr array.\n",
        "                    i += 1\n",
        "                    k += 1\n",
        "\n",
        "                while j < len(right):                         # Similarly, these lines copy any remaining elements from the right array to the arr array.\n",
        "                    arr[k] = right[j]\n",
        "                    j += 1\n",
        "                    k += 1\n",
        "\n",
        "        mergesort()                                           # Finally, the mergesort function is called without any arguments. This is the initial call to start the sorting process with the nums array.\n",
        "        return nums"
      ],
      "metadata": {
        "id": "yU3o2drQHZVZ"
      },
      "execution_count": null,
      "outputs": []
    },
    {
      "cell_type": "code",
      "source": [
        "def sortArray(nums):\n",
        "      def mergesort(arr = nums):\n",
        "          if len(arr) - 1:\n",
        "              mid = len(arr) // 2\n",
        "              left = arr[:mid]\n",
        "              right = arr[mid:]\n",
        "              mergesort(left)\n",
        "              mergesort(right)\n",
        "\n",
        "              i = 0\n",
        "              j = 0\n",
        "              k = 0\n",
        "\n",
        "              while i < len(left) and j < len(right):\n",
        "                  if left[i] <= right[j]:\n",
        "                      arr[k] = left[i]\n",
        "                      i += 1\n",
        "                  else:\n",
        "                      arr[k] = right[j]\n",
        "                      j += 1\n",
        "                  k += 1\n",
        "\n",
        "              while i < len(left):\n",
        "                  arr[k] = left[i]\n",
        "                  i += 1\n",
        "                  k += 1\n",
        "\n",
        "              while j < len(right):\n",
        "                  arr[k] = right[j]\n",
        "                  j += 1\n",
        "                  k += 1\n",
        "\n",
        "      mergesort()\n",
        "      return nums\n",
        "\n",
        "nums = [5,2,3,1]\n",
        "answer =sortArray(nums)\n",
        "print(answer)"
      ],
      "metadata": {
        "colab": {
          "base_uri": "https://localhost:8080/"
        },
        "id": "vHSZKogR9Sva",
        "outputId": "b1596e45-0354-4c64-e1f2-f73d3d4c68e1"
      },
      "execution_count": null,
      "outputs": [
        {
          "output_type": "stream",
          "name": "stdout",
          "text": [
            "[1, 2, 3, 5]\n"
          ]
        }
      ]
    },
    {
      "cell_type": "markdown",
      "source": [
        "The overall time complexity of the provided solution is **O(nlog(n)).** Here's the breakdown of the time complexity:\n",
        "\n",
        "The mergesort function recursively divides the array into halves until the base case is reached, where the length of the array is 0 or 1. This division process has a time complexity of **O(log(n))** since the array is halved at each recursive call.\n",
        "\n",
        "After the division, the merge process begins. The merge process iterates over the elements of the left and right arrays, comparing and merging them into the arr array. Since each element is compared and merged exactly once, this process has a time complexity of **O(n)**, where n is the total number of elements in the input array.\n",
        "\n",
        "Since the division process has a time complexity of **O(log(n))** and the merge process has a time complexity of **O(n)**, the overall time complexity of the solution is **O(nlog(n))**."
      ],
      "metadata": {
        "id": "dCdyOYs9LYpD"
      }
    },
    {
      "cell_type": "markdown",
      "source": [
        "**23. Merge k Sorted Lists**\n",
        "\n",
        "You are given an array of k linked-lists lists, each linked-list is sorted in ascending order.\n",
        "\n",
        "Merge all the linked-lists into one sorted linked-list and return it.\n",
        "\n",
        "**Example 1:**\n",
        "```\n",
        "Input: lists = [[1,4,5],[1,3,4],[2,6]]\n",
        "Output: [1,1,2,3,4,4,5,6]\n",
        "Explanation: The linked-lists are:\n",
        "[\n",
        "  1->4->5,\n",
        "  1->3->4,\n",
        "  2->6\n",
        "]\n",
        "merging them into one sorted list:\n",
        "1->1->2->3->4->4->5->6\n",
        "```\n",
        "**Example 2:**\n",
        "```\n",
        "Input: lists = []\n",
        "Output: []\n",
        "```\n",
        "**Example 3:**\n",
        "```\n",
        "Input: lists = [[]]\n",
        "Output: []\n",
        "```\n",
        "**Constraints:**\n",
        "\n",
        "- ```k == lists.length```\n",
        "- ```0 <= k <= 104```\n",
        "- ```0 <= lists[i].length <= 500```\n",
        "- ```104 <= lists[i][j] <= 104```\n",
        "- ```lists[i]``` is sorted in ascending order.\n",
        "- The sum of ```lists[i].length``` will not exceed ```10^4```.\n",
        "\n"
      ],
      "metadata": {
        "id": "GU9dBaY0ChTD"
      }
    },
    {
      "cell_type": "code",
      "source": [
        "# Definition for singly-linked list.\n",
        "# class ListNode:\n",
        "#     def __init__(self, val=0, next=None):\n",
        "#         self.val = val\n",
        "#         self.next = next\n",
        "class Solution:\n",
        "    def mergeKLists(self, lists: List[Optional[ListNode]]) -> Optional[ListNode]:\n",
        "        if not lists or len(lists) == 0:                                # This checks if the list of linked lists is empty.\n",
        "            return None                                                 # If it is, the function returns None.\n",
        "\n",
        "        while len(lists) > 1:                                           # Loop iterates as long as there are more than 1 linked list in the list of linked lists.\n",
        "            mergedLists = []                                            # Creates a new list to store the merged linked lists.\n",
        "            for i in range (0, len(lists), 2):                          # Loop iterates over the list of linked lists, taking two linked lists at a time.\n",
        "                l1 = lists[i]                                           # Assigns the first linked list to l1.\n",
        "                l2 = lists[i + 1] if (i + 1) < len(lists) else None     # Assigns the second linked list to l2, or None if there is no second linked list.\n",
        "                mergedLists.append(self.mergeList(l1, l2))              # Appends the merged linked list to the mergedLists list.\n",
        "            lists = mergedLists                                         # Assigns the mergedLists list to the lists list.\n",
        "        return lists[0]                                                 # Returns the first linked list in the lists list.\n",
        "\n",
        "    def mergeList(self, l1, l2):\n",
        "        dummy = ListNode()        # This creates a dummy node for the merged linked list. The dummy node does not contain any data, but it is used to simplify the code.\n",
        "        tail = dummy              # This assigns the dummy node to the tail pointer. The tail pointer will be used to traverse the merged linked list.\n",
        "\n",
        "        while l1 and l2:          # This loop iterates as long as there are nodes in both linked lists.\n",
        "            if l1.val < l2.val:   # This compares the values of the first nodes in the two linked lists.\n",
        "                tail.next = l1    # If the value of the first node in l1 is smaller, then it is appended to the merged linked list.\n",
        "                l1 = l1.next      # The pointer to the next node in l1 is updated.\n",
        "            else:\n",
        "                tail.next = l2    # Else if the value of the first node in l2 is smaller, then it is appended to the merged linked list.\n",
        "                l2 = l2.next      # The pointer to the next node in l2 is updated.\n",
        "            tail = tail.next      # The tail pointer is updated to point to the newly appended node.\n",
        "        if l1:                    # This checks if there are any remaining nodes in l1.\n",
        "            tail.next = l1        # If there are remaining nodes in l1, then they are appended to the merged linked list.\n",
        "        if l2:                    # This checks if there are any remaining nodes in l2.\n",
        "            tail.next = l2        # If there are remaining nodes in l2, then they are appended to the merged linked list.\n",
        "        return dummy.next         # This returns the merged linked list.\n",
        ""
      ],
      "metadata": {
        "id": "1Efneu4ODbkr"
      },
      "execution_count": null,
      "outputs": []
    },
    {
      "cell_type": "markdown",
      "source": [
        "\n",
        "The overall time complexity of the mergeKLists() function is **O(kN)**, where k is the number of linked lists and N is the total number of nodes in all the linked lists.\n",
        "\n",
        "The mergeKLists() function works by recursively merging two linked lists at a time. The first time the function is called, there are k linked lists. The next time the function is called, there are k/2 linked lists, and so on. This process continues until there is only one linked list left.\n",
        "\n",
        "The mergeList() function takes two linked lists as input and merges them into a single linked list in ascending order. The time complexity of the mergeList() function is **O(N)**, where N is the total number of nodes in the two linked lists.\n",
        "\n",
        "Therefore, the overall time complexity of the mergeKLists() function is **O(kN)**. This is because the mergeList() function is called k times, and each time it is called, it takes **O(N)** time to merge the two linked lists.\n",
        "\n",
        "Here is a breakdown of the time complexity of the mergeKLists() function:\n",
        "\n",
        "The first time the function is called, it takes **O(N)** time to merge the two linked lists.\n",
        "The next time the function is called, it takes **O(N/2)** time to merge the two linked lists.\n",
        "This process continues until there is only one linked list left, at which point the function takes **O(1)** time to merge the two linked lists.\n",
        "The overall time complexity of the mergeKLists() function is the sum of the time complexities of each of the recursive calls. This sum is **O(kN)**."
      ],
      "metadata": {
        "id": "XbKm5jGOLclU"
      }
    }
  ]
}